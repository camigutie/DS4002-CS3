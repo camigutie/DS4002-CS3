{
 "cells": [
  {
   "cell_type": "markdown",
   "id": "4ec6013d",
   "metadata": {},
   "source": [
    "Run the following two cells to populate the DATA/ folder with the necessary data for our analysis."
   ]
  },
  {
   "cell_type": "code",
   "execution_count": null,
   "id": "dbcc4c5e",
   "metadata": {},
   "outputs": [],
   "source": [
    "!curl http://graphics.cs.cmu.edu/projects/historicalColor/HistoricalColor-ECCV2012-DecadeDatabase.tar > ../DATA/HistoricalColor-ECCV2012-DecadeDatabase.tar"
   ]
  },
  {
   "cell_type": "code",
   "execution_count": null,
   "id": "1dffc7c3",
   "metadata": {},
   "outputs": [],
   "source": [
    "!tar -xf  ../DATA/HistoricalColor-ECCV2012-DecadeDatabase.tar -C ../DATA/"
   ]
  }
 ],
 "metadata": {
  "kernelspec": {
   "display_name": ".env",
   "language": "python",
   "name": "python3"
  },
  "language_info": {
   "name": "python",
   "version": "3.11.9"
  }
 },
 "nbformat": 4,
 "nbformat_minor": 5
}
